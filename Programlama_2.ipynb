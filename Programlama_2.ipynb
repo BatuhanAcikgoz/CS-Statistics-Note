{
  "nbformat": 4,
  "nbformat_minor": 0,
  "metadata": {
    "colab": {
      "provenance": [],
      "authorship_tag": "ABX9TyM8eOgPA2AEASjfw9f0Gl/6",
      "include_colab_link": true
    },
    "kernelspec": {
      "name": "python3",
      "display_name": "Python 3"
    },
    "language_info": {
      "name": "python"
    }
  },
  "cells": [
    {
      "cell_type": "markdown",
      "metadata": {
        "id": "view-in-github",
        "colab_type": "text"
      },
      "source": [
        "<a href=\"https://colab.research.google.com/github/BatuhanAcikgoz/CS-Statistics-Note/blob/main/Programlama_2.ipynb\" target=\"_parent\"><img src=\"https://colab.research.google.com/assets/colab-badge.svg\" alt=\"Open In Colab\"/></a>"
      ]
    },
    {
      "cell_type": "code",
      "source": [
        "print(\"Hello World\")\n",
        "adi = input(\"Adınızı giriniz\")\n",
        "yas = int(input(\"Yaşınızı giriniz\"))\n",
        "print(\"Adınız\",adi,\"Yaşınız\",yas)"
      ],
      "metadata": {
        "colab": {
          "base_uri": "https://localhost:8080/"
        },
        "id": "tIEtxn237Zju",
        "outputId": "1b5c2096-7ce4-48c7-e7b2-386af9472aeb"
      },
      "execution_count": 1,
      "outputs": [
        {
          "output_type": "stream",
          "name": "stdout",
          "text": [
            "Hello World\n",
            "Adınızı girinizBatuhan\n",
            "Yaşınızı giriniz20\n",
            "Adınız Batuhan Yaşınız 20\n"
          ]
        }
      ]
    },
    {
      "cell_type": "code",
      "source": [
        "x = int(input(\"Birinci sayıyı giriniz\"))\n",
        "y = int(input(\"İkinci sayıyı giriniz\"))\n",
        "S = ((x)/(3+y))+((y**x)/((x-1)*(y-2)))\n",
        "S = round(S, 3)\n",
        "print(\"Sonuç : \",S)"
      ],
      "metadata": {
        "colab": {
          "base_uri": "https://localhost:8080/"
        },
        "id": "3WyAVCY79WH-",
        "outputId": "179971c0-f7c2-4090-ccb1-3566ecf0c33a"
      },
      "execution_count": 13,
      "outputs": [
        {
          "output_type": "stream",
          "name": "stdout",
          "text": [
            "Birinci sayıyı giriniz5\n",
            "İkinci sayıyı giriniz9\n",
            "Sonuç :  2109.31\n"
          ]
        }
      ]
    },
    {
      "cell_type": "code",
      "source": [
        "a=int(input(\"Birinci sayıyı giriniz\"))\n",
        "b=int(input(\"İkinci sayıyı giriniz\"))\n",
        "if a == b:\n",
        "  print(\"Eşit\")\n",
        "elif b > a:\n",
        "  print(b)\n",
        "else:\n",
        "  print(a)"
      ],
      "metadata": {
        "colab": {
          "base_uri": "https://localhost:8080/"
        },
        "id": "SA7LEdp_KEPl",
        "outputId": "08bbd00a-ac84-4e92-d8aa-487947ebe255"
      },
      "execution_count": 16,
      "outputs": [
        {
          "output_type": "stream",
          "name": "stdout",
          "text": [
            "Birinci sayıyı giriniz2\n",
            "İkinci sayıyı giriniz3\n",
            "3\n"
          ]
        }
      ]
    },
    {
      "cell_type": "code",
      "source": [
        "secim = int(input(\"1) Topla\\n2) Çıkart\\n3)Çarp\\n4) Böl\\n5) Üssü\\n6) Mod\\nİşleminizi seçin: \"))\n",
        "sayi1 = int(input(\"sayi1: \"))\n",
        "sayi2 = int(input(\"sayi2: \"))\n",
        "match secim:\n",
        "  case 1:\n",
        "    print(\"Sonuç:\",sayi1+sayi2)\n",
        "  case 2:\n",
        "    print(\"Sonuç:\",sayi1-sayi2)\n",
        "  case 3:\n",
        "    print(\"Sonuç:\",sayi1*sayi2)\n",
        "  case 4:\n",
        "    print(\"Sonuç:\",sayi1/sayi2)\n",
        "  case 5:\n",
        "    print(\"Sonuç:\",sayi1**sayi2)\n",
        "  case 6:\n",
        "    print(\"Sonuç:\",sayi1%sayi2)"
      ],
      "metadata": {
        "colab": {
          "base_uri": "https://localhost:8080/"
        },
        "id": "JC07EXAZN-Zs",
        "outputId": "06d5efb5-2754-4f59-9a13-3d19b39a68ca"
      },
      "execution_count": 26,
      "outputs": [
        {
          "output_type": "stream",
          "name": "stdout",
          "text": [
            "1) Topla\n",
            "2) Çıkart\n",
            "3)Çarp\n",
            "4) Böl\n",
            "5) Üssü\n",
            "6) Mod\n",
            "İşleminizi seçin: 1\n",
            "sayi1: 2\n",
            "sayi2: 2\n",
            "Sonuç: 4\n"
          ]
        }
      ]
    },
    {
      "cell_type": "code",
      "source": [
        "secim = int(input(\"1) Topla\\n2) Çıkart\\n3)Çarp\\n4) Böl\\n5) Üssü\\n6) Mod\\nİşleminizi seçin: \"))\n",
        "sayi1 = int(input(\"sayi1: \"))\n",
        "sayi2 = int(input(\"sayi2: \"))\n",
        "if secim == 1: print(\"Sonuç:\",sayi1+sayi2)\n",
        "elif secim == 2: print(\"Sonuç:\",sayi1-sayi2)\n",
        "elif secim == 3: print(\"Sonuç:\",sayi1*sayi2)\n",
        "elif secim == 4: print(\"Sonuç:\",sayi1/sayi2)\n",
        "elif secim == 5: print(\"Sonuç:\",sayi1**sayi2)\n",
        "elif secim == 6: print(\"Sonuç:\",sayi1%sayi2)"
      ],
      "metadata": {
        "colab": {
          "base_uri": "https://localhost:8080/"
        },
        "id": "MoCXgkl3PtZM",
        "outputId": "7370c31e-0f62-489a-db73-c1a5a9c0956d"
      },
      "execution_count": 24,
      "outputs": [
        {
          "output_type": "stream",
          "name": "stdout",
          "text": [
            "1) Topla\n",
            "2) Çıkart\n",
            "3)Çarp\n",
            "4) Böl\n",
            "5) Üssü\n",
            "6) Mod\n",
            "İşleminizi seçin: 5\n",
            "sayi1: 3\n",
            "sayi2: 3\n",
            "Sonuç: 27\n"
          ]
        }
      ]
    }
  ]
}