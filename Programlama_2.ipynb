{
  "nbformat": 4,
  "nbformat_minor": 0,
  "metadata": {
    "colab": {
      "provenance": [],
      "authorship_tag": "ABX9TyPkTl6/MgnKdPwxSkZixQKR",
      "include_colab_link": true
    },
    "kernelspec": {
      "name": "python3",
      "display_name": "Python 3"
    },
    "language_info": {
      "name": "python"
    }
  },
  "cells": [
    {
      "cell_type": "markdown",
      "metadata": {
        "id": "view-in-github",
        "colab_type": "text"
      },
      "source": [
        "<a href=\"https://colab.research.google.com/github/BatuhanAcikgoz/CS-Statistics-Note/blob/main/Programlama_2.ipynb\" target=\"_parent\"><img src=\"https://colab.research.google.com/assets/colab-badge.svg\" alt=\"Open In Colab\"/></a>"
      ]
    },
    {
      "cell_type": "code",
      "source": [
        "print(\"Hello World\")\n",
        "adi = input(\"Adınızı giriniz\")\n",
        "yas = int(input(\"Yaşınızı giriniz\"))\n",
        "print(\"Adınız\",adi,\"Yaşınız\",yas)"
      ],
      "metadata": {
        "colab": {
          "base_uri": "https://localhost:8080/"
        },
        "id": "tIEtxn237Zju",
        "outputId": "1b5c2096-7ce4-48c7-e7b2-386af9472aeb"
      },
      "execution_count": 1,
      "outputs": [
        {
          "output_type": "stream",
          "name": "stdout",
          "text": [
            "Hello World\n",
            "Adınızı girinizBatuhan\n",
            "Yaşınızı giriniz20\n",
            "Adınız Batuhan Yaşınız 20\n"
          ]
        }
      ]
    },
    {
      "cell_type": "code",
      "source": [
        "x = int(input(\"Birinci sayıyı giriniz\"))\n",
        "y = int(input(\"İkinci sayıyı giriniz\"))\n",
        "S = ((x)/(3+y))+((y**x)/((x-1)*(y-2)))\n",
        "S = round(S, 3)\n",
        "print(\"Sonuç : \",S)"
      ],
      "metadata": {
        "colab": {
          "base_uri": "https://localhost:8080/"
        },
        "id": "3WyAVCY79WH-",
        "outputId": "179971c0-f7c2-4090-ccb1-3566ecf0c33a"
      },
      "execution_count": 13,
      "outputs": [
        {
          "output_type": "stream",
          "name": "stdout",
          "text": [
            "Birinci sayıyı giriniz5\n",
            "İkinci sayıyı giriniz9\n",
            "Sonuç :  2109.31\n"
          ]
        }
      ]
    },
    {
      "cell_type": "code",
      "source": [
        "a=int(input(\"Birinci sayıyı giriniz\"))\n",
        "b=int(input(\"İkinci sayıyı giriniz\"))\n",
        "if a == b:\n",
        "  print(\"Eşit\")\n",
        "elif b > a:\n",
        "  print(b)\n",
        "else:\n",
        "  print(a)"
      ],
      "metadata": {
        "colab": {
          "base_uri": "https://localhost:8080/"
        },
        "id": "SA7LEdp_KEPl",
        "outputId": "08bbd00a-ac84-4e92-d8aa-487947ebe255"
      },
      "execution_count": 16,
      "outputs": [
        {
          "output_type": "stream",
          "name": "stdout",
          "text": [
            "Birinci sayıyı giriniz2\n",
            "İkinci sayıyı giriniz3\n",
            "3\n"
          ]
        }
      ]
    }
  ]
}