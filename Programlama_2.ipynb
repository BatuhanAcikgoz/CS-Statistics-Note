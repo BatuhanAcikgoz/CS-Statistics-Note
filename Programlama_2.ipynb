{
  "nbformat": 4,
  "nbformat_minor": 0,
  "metadata": {
    "colab": {
      "provenance": [],
      "authorship_tag": "ABX9TyPnyNz8P72cRMH1ykY74AcS",
      "include_colab_link": true
    },
    "kernelspec": {
      "name": "python3",
      "display_name": "Python 3"
    },
    "language_info": {
      "name": "python"
    }
  },
  "cells": [
    {
      "cell_type": "markdown",
      "metadata": {
        "id": "view-in-github",
        "colab_type": "text"
      },
      "source": [
        "<a href=\"https://colab.research.google.com/github/BatuhanAcikgoz/CS-Statistics-Note/blob/main/Programlama_2.ipynb\" target=\"_parent\"><img src=\"https://colab.research.google.com/assets/colab-badge.svg\" alt=\"Open In Colab\"/></a>"
      ]
    },
    {
      "cell_type": "code",
      "source": [
        "print(\"Hello World\")\n",
        "adi = input(\"Adınızı giriniz\")\n",
        "yas = int(input(\"Yaşınızı giriniz\"))\n",
        "print(\"Adınız\",adi,\"Yaşınız\",yas)"
      ],
      "metadata": {
        "colab": {
          "base_uri": "https://localhost:8080/"
        },
        "id": "tIEtxn237Zju",
        "outputId": "1b5c2096-7ce4-48c7-e7b2-386af9472aeb"
      },
      "execution_count": 1,
      "outputs": [
        {
          "output_type": "stream",
          "name": "stdout",
          "text": [
            "Hello World\n",
            "Adınızı girinizBatuhan\n",
            "Yaşınızı giriniz20\n",
            "Adınız Batuhan Yaşınız 20\n"
          ]
        }
      ]
    },
    {
      "cell_type": "code",
      "source": [
        "x = int(input(\"Birinci sayıyı giriniz\"))\n",
        "y = int(input(\"İkinci sayıyı giriniz\"))\n",
        "S = ((x)/(3+y))+((y**x)/((x-1)*(y-2)))\n",
        "S = round(S, 3)\n",
        "print(\"Sonuç : \",S)"
      ],
      "metadata": {
        "colab": {
          "base_uri": "https://localhost:8080/"
        },
        "id": "3WyAVCY79WH-",
        "outputId": "179971c0-f7c2-4090-ccb1-3566ecf0c33a"
      },
      "execution_count": 13,
      "outputs": [
        {
          "output_type": "stream",
          "name": "stdout",
          "text": [
            "Birinci sayıyı giriniz5\n",
            "İkinci sayıyı giriniz9\n",
            "Sonuç :  2109.31\n"
          ]
        }
      ]
    },
    {
      "cell_type": "code",
      "source": [
        "a=int(input(\"Birinci sayıyı giriniz\"))\n",
        "b=int(input(\"İkinci sayıyı giriniz\"))\n",
        "if a == b:\n",
        "  print(\"Eşit\")\n",
        "elif b > a:\n",
        "  print(b)\n",
        "else:\n",
        "  print(a)"
      ],
      "metadata": {
        "colab": {
          "base_uri": "https://localhost:8080/"
        },
        "id": "SA7LEdp_KEPl",
        "outputId": "08bbd00a-ac84-4e92-d8aa-487947ebe255"
      },
      "execution_count": 16,
      "outputs": [
        {
          "output_type": "stream",
          "name": "stdout",
          "text": [
            "Birinci sayıyı giriniz2\n",
            "İkinci sayıyı giriniz3\n",
            "3\n"
          ]
        }
      ]
    },
    {
      "cell_type": "code",
      "source": [
        "secim = int(input(\"1) Topla\\n2) Çıkart\\n3)Çarp\\n4) Böl\\n5) Üssü\\n6) Mod\\nİşleminizi seçin: \"))\n",
        "sayi1 = int(input(\"sayi1: \"))\n",
        "sayi2 = int(input(\"sayi2: \"))\n",
        "match secim:\n",
        "  case 1:\n",
        "    print(\"Sonuç:\",sayi1+sayi2)\n",
        "  case 2:\n",
        "    print(\"Sonuç:\",sayi1-sayi2)\n",
        "  case 3:\n",
        "    print(\"Sonuç:\",sayi1*sayi2)\n",
        "  case 4:\n",
        "    print(\"Sonuç:\",sayi1/sayi2)\n",
        "  case 5:\n",
        "    print(\"Sonuç:\",sayi1**sayi2)\n",
        "  case 6:\n",
        "    print(\"Sonuç:\",sayi1%sayi2)"
      ],
      "metadata": {
        "colab": {
          "base_uri": "https://localhost:8080/"
        },
        "id": "JC07EXAZN-Zs",
        "outputId": "06d5efb5-2754-4f59-9a13-3d19b39a68ca"
      },
      "execution_count": 26,
      "outputs": [
        {
          "output_type": "stream",
          "name": "stdout",
          "text": [
            "1) Topla\n",
            "2) Çıkart\n",
            "3)Çarp\n",
            "4) Böl\n",
            "5) Üssü\n",
            "6) Mod\n",
            "İşleminizi seçin: 1\n",
            "sayi1: 2\n",
            "sayi2: 2\n",
            "Sonuç: 4\n"
          ]
        }
      ]
    },
    {
      "cell_type": "code",
      "source": [
        "secim = int(input(\"1) Topla\\n2) Çıkart\\n3)Çarp\\n4) Böl\\n5) Üssü\\n6) Mod\\nİşleminizi seçin: \"));sayi1 = int(input(\"sayi1: \")); sayi2 = int(input(\"sayi2: \"));\n",
        "if secim == 1: print(\"Sonuç:\",sayi1+sayi2)\n",
        "elif secim == 2: print(\"Sonuç:\",sayi1-sayi2)\n",
        "elif secim == 3: print(\"Sonuç:\",sayi1*sayi2)\n",
        "elif secim == 4: print(\"Sonuç:\",sayi1/sayi2)\n",
        "elif secim == 5: print(\"Sonuç:\",sayi1**sayi2)\n",
        "elif secim == 6: print(\"Sonuç:\",sayi1%sayi2)"
      ],
      "metadata": {
        "colab": {
          "base_uri": "https://localhost:8080/"
        },
        "id": "MoCXgkl3PtZM",
        "outputId": "ee9278af-7e32-4f4f-d585-e1bf9c5aec50"
      },
      "execution_count": 29,
      "outputs": [
        {
          "output_type": "stream",
          "name": "stdout",
          "text": [
            "1) Topla\n",
            "2) Çıkart\n",
            "3)Çarp\n",
            "4) Böl\n",
            "5) Üssü\n",
            "6) Mod\n",
            "İşleminizi seçin: 1\n",
            "sayi1: 2\n",
            "sayi2: 2\n",
            "Sonuç: 4\n"
          ]
        }
      ]
    },
    {
      "cell_type": "code",
      "source": [
        "a = 3; b= 3; c = a + b;\n",
        "print((\"Bu iki sayının {}, {} toplamı {}dır\").format(a,b,c))"
      ],
      "metadata": {
        "colab": {
          "base_uri": "https://localhost:8080/"
        },
        "id": "Ua1FT57ATB8j",
        "outputId": "98bc5ec8-9561-460c-fffa-3b0377c038d7"
      },
      "execution_count": 30,
      "outputs": [
        {
          "output_type": "stream",
          "name": "stdout",
          "text": [
            "Bu iki sayının 3, 3 toplamı 6dır\n"
          ]
        }
      ]
    },
    {
      "cell_type": "code",
      "source": [
        "a = 3.2; b= 3.1; c = a + b;\n",
        "print((\"Bu iki sayının {}, {} toplamı {:2f}dır\").format(a,b,c))"
      ],
      "metadata": {
        "colab": {
          "base_uri": "https://localhost:8080/"
        },
        "id": "MHqm2jiDUKyy",
        "outputId": "521f634d-a59f-4da8-cf00-73dc33b71205"
      },
      "execution_count": 32,
      "outputs": [
        {
          "output_type": "stream",
          "name": "stdout",
          "text": [
            "Bu iki sayının 3.2, 3.1 toplamı 6.300000dır\n"
          ]
        }
      ]
    },
    {
      "cell_type": "code",
      "source": [
        "x = int(input(\"Bir sayı giriniz: \"))\n",
        "if x<0:\n",
        "  print(\"Sonuç: \",3*(x**2))\n",
        "elif 0<=x<=100:\n",
        "  print(\"Sonuç: \",((x**2)+5)/21)\n",
        "else:\n",
        "  print(\"Sonuç: \",x/10)\n",
        ""
      ],
      "metadata": {
        "colab": {
          "base_uri": "https://localhost:8080/"
        },
        "id": "1s6RLh5zUXk7",
        "outputId": "24eaeaa7-0306-490c-d58d-9588a4f6be41"
      },
      "execution_count": 34,
      "outputs": [
        {
          "output_type": "stream",
          "name": "stdout",
          "text": [
            "Bir sayı giriniz: 5\n",
            "Sonuç:  1.4285714285714286\n"
          ]
        }
      ]
    },
    {
      "cell_type": "code",
      "source": [
        "vize = int(input(\"Vize notunuzu giriniz: \"))\n",
        "odev = int(input(\"Ödev notunuzu giriniz: \"))\n",
        "vizeagirlik = int(input(\"Vize notunun ağırlığını giriniz: \"))/100\n",
        "odevagirlik = int(input(\"Ödev notunun ağırlığını giriniz: \"))/100\n",
        "finalagirlik = int(input(\"Final notunun ağırlığını giriniz: \"))/100\n",
        "vizeodev = (vize*vizeagirlik)+(odev*vizeagirlik)\n",
        "if vizeagirlik + odevagirlik + finalagirlik != 1:\n",
        "  while vizeagirlik + odevagirlik + finalagirlik != 1:\n",
        "    print(\"Ağırlıkların toplamı 100 olmalı\")\n",
        "    vizeagirlik = int(input(\"Vize notunun ağırlığını giriniz: \"))/100\n",
        "    odevagirlik = int(input(\"Ödev notunun ağırlığını giriniz: \"))/100\n",
        "    finalagirlik = int(input(\"Final notunun ağırlığını giriniz: \"))/100\n",
        "\n",
        "if vizeodev > 45:\n",
        "  print(\"Almanız gereken minumum final not 50\")\n",
        "else:\n",
        "  finalnotu = ((45/((finalagirlik)))-vizeodev)\n",
        "  if finalnotu > 100:\n",
        "    print(\"Bu dersten biraz zor geçersin seneye görüşürüz :)\")\n",
        "  else:\n",
        "    print(\"Final notunuz: \",finalnotu)\n"
      ],
      "metadata": {
        "colab": {
          "base_uri": "https://localhost:8080/"
        },
        "id": "iSm0lK0DU64D",
        "outputId": "cf44bfdb-9e95-4d36-f42b-31151bb7eebe"
      },
      "execution_count": 75,
      "outputs": [
        {
          "output_type": "stream",
          "name": "stdout",
          "text": [
            "Vize notunuzu giriniz: 0\n",
            "Ödev notunuzu giriniz: 0\n",
            "Vize notunun ağırlığını giriniz: 40\n",
            "Ödev notunun ağırlığını giriniz: 40\n",
            "Final notunun ağırlığını giriniz: 20\n",
            "Bu dersten biraz zor geçersin seneye görüşürüz :)\n",
            "Final notunuz:  225.0\n"
          ]
        }
      ]
    },
    {
      "cell_type": "code",
      "source": [],
      "metadata": {
        "id": "l__5rooabW2J"
      },
      "execution_count": null,
      "outputs": []
    }
  ]
}